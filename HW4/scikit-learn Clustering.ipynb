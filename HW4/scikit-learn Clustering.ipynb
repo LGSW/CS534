{
 "cells": [
  {
   "cell_type": "markdown",
   "metadata": {},
   "source": [
    "# Problem 3 scikit-learn Clustering"
   ]
  },
  {
   "cell_type": "code",
   "execution_count": 186,
   "metadata": {
    "collapsed": true
   },
   "outputs": [],
   "source": [
    "import sklearn.cluster\n",
    "from sklearn.metrics import confusion_matrix\n",
    "import numpy as np\n",
    "import matplotlib.pyplot as plt \n",
    "from sklearn.datasets import load_digits\n",
    "from sklearn.preprocessing import scale\n",
    "from sklearn.metrics.cluster import fowlkes_mallows_score"
   ]
  },
  {
   "cell_type": "code",
   "execution_count": 123,
   "metadata": {},
   "outputs": [
    {
     "name": "stdout",
     "output_type": "stream",
     "text": [
      "(1797, 64)\n",
      "[[  0.   0.   5. ...,   0.   0.   0.]\n",
      " [  0.   0.   0. ...,  10.   0.   0.]\n",
      " [  0.   0.   0. ...,  16.   9.   0.]\n",
      " ..., \n",
      " [  0.   0.   1. ...,   6.   0.   0.]\n",
      " [  0.   0.   2. ...,  12.   0.   0.]\n",
      " [  0.   0.  10. ...,  12.   1.   0.]]\n"
     ]
    }
   ],
   "source": [
    "digits = load_digits()\n",
    "print(digits.data.shape)\n",
    "print(digits.data)\n"
   ]
  },
  {
   "cell_type": "code",
   "execution_count": 221,
   "metadata": {},
   "outputs": [
    {
     "name": "stdout",
     "output_type": "stream",
     "text": [
      "1797\n",
      "[0 1 2 ..., 8 9 8]\n"
     ]
    }
   ],
   "source": [
    "labels=digits.target\n",
    "print(len(labels))\n",
    "print(labels)\n",
    "y_true= labels\n",
    "y_t=[]\n",
    "for i in range(len(y_true)):\n",
    "    y_t.append(y_true[i])\n",
    "#print(y_t)"
   ]
  },
  {
   "cell_type": "code",
   "execution_count": 230,
   "metadata": {},
   "outputs": [],
   "source": [
    "\n",
    "class Kmean:\n",
    "    def __init__(self, data ,c_num, itor):\n",
    "        self.data= data\n",
    "        self.length= np.array(data).shape[0]\n",
    "        self.dim= np.array(data).shape[1]\n",
    "        self.c_num= c_num\n",
    "        self.itoration= itor\n",
    "    \n",
    "    def Eu_dist(self, x, y):\n",
    "        if(len(x)!=len(y)):\n",
    "            return False\n",
    "        sum=0\n",
    "        for i in range(len(x)):\n",
    "            sum+= pow(x[i]-y[i],2)\n",
    "        \n",
    "        return math.sqrt(sum)\n",
    "    \n",
    "    def rand_centroid(self):\n",
    "        maxv=[-999999]*self.dim\n",
    "        minv=[999999]*self.dim\n",
    "        for i in range(len(self.data)):\n",
    "            for j in range(len(self.data[i])):\n",
    "                if self.data[i][j] >= maxv[j]:\n",
    "                    maxv[j]=self.data[i][j]\n",
    "                if self.data[i][j] <= minv[j]:\n",
    "                    minv[j]=self.data[i][j]\n",
    "        #print(maxv)\n",
    "        #print(minv)\n",
    "        rand_cent=[]\n",
    "        for i in range(self.c_num):\n",
    "            temp=[]\n",
    "            for j in range(self.dim):\n",
    "                x=random.uniform(minv[j],maxv[j])\n",
    "                temp.append(x)\n",
    "            rand_cent.append(temp)    \n",
    "        #print(rand_c)\n",
    "        return rand_cent\n",
    "    \n",
    "    def kmean(self, data, centroids):\n",
    "        for i in range(self.itoration):\n",
    "            y_pred=[]\n",
    "            for j in range(len(data)):\n",
    "                odis=999999\n",
    "                cluster=0\n",
    "                for k in range(len(centroids)):\n",
    "                    if(self.Eu_dist(data[j], centroids[k])<odis):\n",
    "                        odis= self.Eu_dist(data[j], centroids[k])\n",
    "                        cluster=k\n",
    "                y_pred.append(cluster)\n",
    "            #print(y_pred)\n",
    "            \n",
    "            self.draw_graph(data, y_pred, centroids)\n",
    "            \n",
    "            sum_c=[[0]*self.dim for w in range(len(centroids))]\n",
    "            num_c=[0]*len(centroids)\n",
    "            \n",
    "            for j in range(len(y_pred)):\n",
    "                num_c[y_pred[j]]+=1\n",
    "                for k in range(self.dim):\n",
    "                    sum_c[y_pred[j]][k]+=data[j][k]\n",
    "            new_cnum=0\n",
    "            avg_c=[]\n",
    "            for j in range(len(centroids)):\n",
    "                if(num_c[j]>0):\n",
    "                    temp=[]\n",
    "                    for k in range(self.dim):\n",
    "                        temp.append(sum_c[j][k]/num_c[j])\n",
    "                    avg_c.append(temp)\n",
    "                    new_cnum+=1\n",
    "            #print(new_cnum)\n",
    "            print(centroids)\n",
    "            #print(avg_c)\n",
    "            \n",
    "            if new_cnum==len(centroids):\n",
    "                coverge_dis=0\n",
    "                for j in range(len(centroids)):\n",
    "                    coverge_dis+= self.Eu_dist(centroids[j],avg_c[j])\n",
    "                #print(coverge_dis)\n",
    "                if coverge_dis<=0.05:\n",
    "                    return avg_c\n",
    "         \n",
    "            centroids=avg_c.copy()\n",
    "            \n",
    "        return avg_c\n",
    "                \n",
    "\n",
    "                "
   ]
  },
  {
   "cell_type": "code",
   "execution_count": 222,
   "metadata": {},
   "outputs": [
    {
     "name": "stdout",
     "output_type": "stream",
     "text": [
      "[[177   0   0   0   1  -1   0   0   0  -1]\n",
      " [  0  58  27   0   0  -1   0   1  96  -1]\n",
      " [  0   5 131   3   1  -1   0   2  35  -1]\n",
      " [  0   0  15 151   0  -1   0   8   9  -1]\n",
      " [  0   7   0   0 157  -1   0  13   4  -1]\n",
      " [  0   2  40  71   2  -1   3   2  62  -1]\n",
      " [  1   1   0   0   0  -1 175   0   4  -1]\n",
      " [  0   3   7   0   0  -1   0 169   0  -1]\n",
      " [  0  17   8  47   0  -1   3   2  97  -1]\n",
      " [  0  19   0 145   0  -1   0  11   5  -1]]\n"
     ]
    }
   ],
   "source": [
    "\n",
    "y_pred= sklearn.cluster.k_means(scale(digits.data), 10)[1].tolist()\n",
    "#print(y_pred)\n",
    "y_count=[[0]*10 for k in range(10)]\n",
    "\n",
    "for i in range(len(y_pred)):\n",
    "    y_count[y_pred[i]][y_true[i]]+=1\n",
    "\n",
    "y_pred2=[]\n",
    "for i in range(len(y_count)):\n",
    "    y_pred2.append(y_count[i].index(max(y_count[i])))\n",
    "#print(y_pred2)\n",
    "\n",
    "y_pred_cluster=[]\n",
    "for i in range(len(y_pred)):\n",
    "    y_pred_cluster.append(y_pred2[y_pred[i]])\n",
    "\n",
    "result= confusion_matrix(y_true, y_pred_cluster)\n",
    "relist= result.tolist()\n",
    "\n",
    "\n",
    "for i in range(len(relist)):\n",
    "    ct=0\n",
    "    for j in range(len(relist)):\n",
    "        if(relist[j][i]==0):\n",
    "            ct+=1\n",
    "    if ct==10:\n",
    "        for j in range(len(relist)):\n",
    "            relist[j][i]=-1\n",
    "\n",
    "conf_matrix = np.array(relist)\n",
    "print(conf_matrix)\n",
    "\n",
    "from sklearn.metrics.cluster import fowlkes_mallows_score\n",
    "fowlkes_mallows_score(y_t, y_pred_cluster)"
   ]
  },
  {
   "cell_type": "code",
   "execution_count": null,
   "metadata": {},
   "outputs": [],
   "source": []
  },
  {
   "cell_type": "code",
   "execution_count": 226,
   "metadata": {},
   "outputs": [
    {
     "name": "stdout",
     "output_type": "stream",
     "text": [
      "[[178   0   0   0   0   0   0   0   0  -1]\n",
      " [  0 155  27   0   0   0   0   0   0  -1]\n",
      " [  0   0 166   0   0   0   0   1  10  -1]\n",
      " [  0   0   0 169   0   0   0   1  13  -1]\n",
      " [  0   0   0   0 178   0   0   3   0  -1]\n",
      " [  0   0   0   2   0 179   1   0   0  -1]\n",
      " [  0   0   0   0   0   0 180   0   1  -1]\n",
      " [  0   0   0   0   0   0   0 179   0  -1]\n",
      " [  0   3   4   1   0   0   0   1 165  -1]\n",
      " [  0  20   0 145   0   2   0  11   2  -1]]\n"
     ]
    }
   ],
   "source": [
    "#Agglomerative clustering with Ward linkage\n",
    "from sklearn.cluster import AgglomerativeClustering\n",
    "model_AC = AgglomerativeClustering(linkage='ward', n_clusters=10)\n",
    "y_pred_AC= model_AC.fit_predict(digits.data)\n",
    "#print(y_pred_AC)\n",
    "\n",
    "y_count_AC=[[0]*10 for k in range(10)]\n",
    "\n",
    "for i in range(len(y_pred_AC)):\n",
    "    y_count_AC[y_pred_AC[i]][y_true[i]]+=1\n",
    "    \n",
    "y_pred2=[]\n",
    "for i in range(len(y_count_AC)):\n",
    "    y_pred2.append(y_count_AC[i].index(max(y_count_AC[i])))\n",
    "\n",
    "y_pred_cluster=[]\n",
    "for i in range(len(y_pred_AC)):\n",
    "    y_pred_cluster.append(y_pred2[y_pred_AC[i]])\n",
    "\n",
    "result= confusion_matrix(y_true, y_pred_cluster)\n",
    "relist= result.tolist()\n",
    "\n",
    "for i in range(len(relist)):\n",
    "    ct=0\n",
    "    for j in range(len(relist)):\n",
    "        if(relist[j][i]==0):\n",
    "            ct+=1\n",
    "    if ct==10:\n",
    "        for j in range(len(relist)):\n",
    "            relist[j][i]=-1\n",
    "\n",
    "conf_matrix = np.array(relist)\n",
    "print(conf_matrix)\n",
    "\n",
    "fowlkes_mallows_score(y_t, y_pred_cluster)"
   ]
  },
  {
   "cell_type": "code",
   "execution_count": 195,
   "metadata": {},
   "outputs": [
    {
     "data": {
      "text/plain": [
       "1797"
      ]
     },
     "execution_count": 195,
     "metadata": {},
     "output_type": "execute_result"
    }
   ],
   "source": [
    "len(y_true)"
   ]
  },
  {
   "cell_type": "code",
   "execution_count": 196,
   "metadata": {},
   "outputs": [
    {
     "data": {
      "text/plain": [
       "1797"
      ]
     },
     "execution_count": 196,
     "metadata": {},
     "output_type": "execute_result"
    }
   ],
   "source": [
    "len(y_pred_cluster)"
   ]
  },
  {
   "cell_type": "code",
   "execution_count": 211,
   "metadata": {},
   "outputs": [
    {
     "name": "stdout",
     "output_type": "stream",
     "text": [
      "[[177   0   0   0   1   0   0   0   0   0]\n",
      " [  0 182   0   0   0   0   0   0   0   0]\n",
      " [  0   0 176   1   0   0   0   0   0   0]\n",
      " [  0   0   0 177   0   2   0   0   0   4]\n",
      " [  0   4   0   0 171   0   0   4   0   2]\n",
      " [  0   0   0   0   0 180   0   0   0   2]\n",
      " [  2   1   0   0   0   0 178   0   0   0]\n",
      " [  0   0   0   0   0   0   0 178   0   1]\n",
      " [  0  16   2   3   0   1   1   1 149   1]\n",
      " [  0   1   0   0   0   3   0   1   1 174]]\n"
     ]
    }
   ],
   "source": [
    "# AffinityPropagation\n",
    "from sklearn.cluster import AffinityPropagation\n",
    "model_AP = AffinityPropagation()\n",
    "y_pred_AP = model_AP.fit_predict(digits.data)\n",
    "#print(y_pred_AP)\n",
    "\n",
    "maxlen= max(y_pred_AP)\n",
    "y_count_AP=[[0]*10 for k in range(maxlen+1)]\n",
    "\n",
    "for i in range(len(y_pred_AP)):\n",
    "    y_count_AP[y_pred_AP[i]][y_true[i]]+=1\n",
    "    \n",
    "y_pred2=[]\n",
    "for i in range(len(y_count_AP)):\n",
    "    y_pred2.append(y_count_AP[i].index(max(y_count_AP[i])))\n",
    "\n",
    "y_pred_cluster=[]\n",
    "for i in range(len(y_pred_AP)):\n",
    "    y_pred_cluster.append(y_pred2[y_pred_AP[i]])\n",
    "\n",
    "result= confusion_matrix(y_true, y_pred_cluster)\n",
    "relist= result.tolist()\n",
    "\n",
    "for i in range(len(relist)):\n",
    "    ct=0\n",
    "    for j in range(len(relist)):\n",
    "        if(relist[j][i]==0):\n",
    "            ct+=1\n",
    "    if ct==10:\n",
    "        for j in range(len(relist)):\n",
    "            relist[j][i]=-1\n",
    "\n",
    "conf_matrix = np.array(relist)\n",
    "print(conf_matrix)\n",
    "\n",
    "fowlkes_mallows_score(y_t, y_pred_cluster)"
   ]
  },
  {
   "cell_type": "code",
   "execution_count": null,
   "metadata": {},
   "outputs": [],
   "source": []
  },
  {
   "cell_type": "code",
   "execution_count": null,
   "metadata": {
    "collapsed": true
   },
   "outputs": [],
   "source": []
  }
 ],
 "metadata": {
  "kernelspec": {
   "display_name": "Python 3",
   "language": "python",
   "name": "python3"
  },
  "language_info": {
   "codemirror_mode": {
    "name": "ipython",
    "version": 3
   },
   "file_extension": ".py",
   "mimetype": "text/x-python",
   "name": "python",
   "nbconvert_exporter": "python",
   "pygments_lexer": "ipython3",
   "version": "3.6.1"
  }
 },
 "nbformat": 4,
 "nbformat_minor": 2
}
