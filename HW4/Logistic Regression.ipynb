{
 "cells": [
  {
   "cell_type": "markdown",
   "metadata": {},
   "source": [
    "# Problem 2 Logistic Regression"
   ]
  },
  {
   "cell_type": "code",
   "execution_count": 133,
   "metadata": {
    "collapsed": true
   },
   "outputs": [],
   "source": [
    "import csv\n",
    "import numpy as np\n",
    "import math\n",
    "import matplotlib.pyplot as plt\n",
    "from sklearn.metrics import confusion_matrix"
   ]
  },
  {
   "cell_type": "code",
   "execution_count": 206,
   "metadata": {},
   "outputs": [
    {
     "name": "stdout",
     "output_type": "stream",
     "text": [
      "400\n",
      "[['age' 'bp' 'sg' ..., 'pe' 'ane' 'class']\n",
      " ['48' '80' '1.020' ..., 'no' 'no' 'ckd']\n",
      " ['7' '50' '1.020' ..., 'no' 'no' 'ckd']\n",
      " ..., \n",
      " ['12' '80' '1.020' ..., 'no' 'no' 'notckd']\n",
      " ['17' '60' '1.025' ..., 'no' 'no' 'notckd']\n",
      " ['58' '80' '1.025' ..., 'no' 'no' 'notckd']]\n"
     ]
    }
   ],
   "source": [
    "# Use weka to save the arff file as the csv file\n",
    "# Then read the data from the CSV\n",
    "\n",
    "disease_data=[]\n",
    "csv_reader = csv.reader(open('realdata1/chronic_kidney_disease_full.csv', encoding='utf-8'))\n",
    "for row in csv_reader:\n",
    "    disease_data.append(row)\n",
    "print(len(disease_data[1:]))\n",
    "#print(disease_data[0:2])\n",
    "arr=np.array(disease_data)\n",
    "print(arr)"
   ]
  },
  {
   "cell_type": "code",
   "execution_count": 198,
   "metadata": {},
   "outputs": [
    {
     "ename": "IndexError",
     "evalue": "list index out of range",
     "output_type": "error",
     "traceback": [
      "\u001b[1;31m---------------------------------------------------------------------------\u001b[0m",
      "\u001b[1;31mIndexError\u001b[0m                                Traceback (most recent call last)",
      "\u001b[1;32m<ipython-input-198-a8977c6af86a>\u001b[0m in \u001b[0;36m<module>\u001b[1;34m()\u001b[0m\n\u001b[0;32m      7\u001b[0m     \u001b[1;31m#print(disease_data[i])\u001b[0m\u001b[1;33m\u001b[0m\u001b[1;33m\u001b[0m\u001b[0m\n\u001b[0;32m      8\u001b[0m     \u001b[1;32mfor\u001b[0m \u001b[0mj\u001b[0m \u001b[1;32min\u001b[0m \u001b[0mrange\u001b[0m\u001b[1;33m(\u001b[0m\u001b[0mlen\u001b[0m\u001b[1;33m(\u001b[0m\u001b[0mdisease_data\u001b[0m\u001b[1;33m[\u001b[0m\u001b[0mi\u001b[0m\u001b[1;33m]\u001b[0m\u001b[1;33m)\u001b[0m\u001b[1;33m)\u001b[0m\u001b[1;33m:\u001b[0m\u001b[1;33m\u001b[0m\u001b[0m\n\u001b[1;32m----> 9\u001b[1;33m         \u001b[1;32mif\u001b[0m\u001b[1;33m(\u001b[0m\u001b[0mtypex\u001b[0m\u001b[1;33m[\u001b[0m\u001b[0mj\u001b[0m\u001b[1;33m]\u001b[0m\u001b[1;33m==\u001b[0m\u001b[1;34m'num'\u001b[0m\u001b[1;33m)\u001b[0m\u001b[1;33m:\u001b[0m\u001b[1;33m\u001b[0m\u001b[0m\n\u001b[0m\u001b[0;32m     10\u001b[0m             \u001b[1;32mif\u001b[0m\u001b[1;33m(\u001b[0m\u001b[0mdisease_data\u001b[0m\u001b[1;33m[\u001b[0m\u001b[0mi\u001b[0m\u001b[1;33m]\u001b[0m\u001b[1;33m[\u001b[0m\u001b[0mj\u001b[0m\u001b[1;33m]\u001b[0m\u001b[1;33m!=\u001b[0m\u001b[1;34m'?'\u001b[0m\u001b[1;33m)\u001b[0m\u001b[1;33m:\u001b[0m\u001b[1;33m\u001b[0m\u001b[0m\n\u001b[0;32m     11\u001b[0m                 \u001b[0mavg\u001b[0m\u001b[1;33m[\u001b[0m\u001b[0mj\u001b[0m\u001b[1;33m]\u001b[0m\u001b[1;33m+=\u001b[0m\u001b[0mfloat\u001b[0m\u001b[1;33m(\u001b[0m\u001b[0mdisease_data\u001b[0m\u001b[1;33m[\u001b[0m\u001b[0mi\u001b[0m\u001b[1;33m]\u001b[0m\u001b[1;33m[\u001b[0m\u001b[0mj\u001b[0m\u001b[1;33m]\u001b[0m\u001b[1;33m)\u001b[0m\u001b[1;33m\u001b[0m\u001b[0m\n",
      "\u001b[1;31mIndexError\u001b[0m: list index out of range"
     ]
    }
   ],
   "source": [
    "typex=['num','num','nom','nom','nom','nom','nom','nom','nom','num','num','num','num','num','num','num','num',\\\n",
    "       'nom','nom','nom','nom','nom','nom','nom']\n",
    "avg=[0 for k in range(25)]\n",
    "count=[0 for k in range(25)]\n",
    "count_0=[0 for k in range(25)]\n",
    "count_1=[0 for k in range(25)]\n",
    "for i in range(1,len(disease_data)):\n",
    "    #print(disease_data[i])\n",
    "    for j in range(len(disease_data[i])):\n",
    "        if(typex[j]=='num'):\n",
    "            if(disease_data[i][j]!='?'):\n",
    "                avg[j]+=float(disease_data[i][j])\n",
    "                count[j]+=1\n",
    "        #else:\n",
    "            \n",
    "#print(len(disease_data[0]))\n",
    "print(avg)"
   ]
  },
  {
   "cell_type": "code",
   "execution_count": 207,
   "metadata": {},
   "outputs": [
    {
     "name": "stdout",
     "output_type": "stream",
     "text": [
      "158\n",
      "[['age', 'bp', 'sg', 'al', 'su', 'rbc', 'pc', 'pcc', 'ba', 'bgr', 'bu', 'sc', 'sod', 'pot', 'hemo', 'pcv', 'wbcc', 'rbcc', 'htn', 'dm', 'cad', 'appet', 'pe', 'ane', 'class'], ['48', '70', '1.005', '4', '0', 'normal', 'abnormal', 'present', 'notpresent', '117', '56', '3.8', '111', '2.5', '11.2', '32', '6700', '3.9', 'yes', 'no', 'no', 'poor', 'yes', 'yes', 'ckd'], ['53', '90', '1.020', '2', '0', 'abnormal', 'abnormal', 'present', 'notpresent', '70', '107', '7.2', '114', '3.7', '9.5', '29', '12100', '3.7', 'yes', 'yes', 'no', 'poor', 'no', 'yes', 'ckd']]\n",
      "[['age', 'bp', 'sg', 'al', 'su', 'rbc', 'pc', 'pcc', 'ba', 'bgr', 'bu', 'sc', 'sod', 'pot', 'hemo', 'pcv', 'wbcc', 'rbcc', 'htn', 'dm', 'cad', 'appet', 'pe', 'ane', 'class'], [48.0, 70.0, 1.005, 4.0, 0.0, 0.0, 1.0, 0.0, 1.0, 117.0, 56.0, 3.8, 111.0, 2.5, 11.2, 32.0, 6700.0, 3.9, 0.0, 1.0, 1.0, 1.0, 0.0, 0.0, 0.0], [53.0, 90.0, 1.02, 2.0, 0.0, 1.0, 1.0, 0.0, 1.0, 70.0, 107.0, 7.2, 114.0, 3.7, 9.5, 29.0, 12100.0, 3.7, 0.0, 0.0, 1.0, 1.0, 1.0, 0.0, 0.0]]\n"
     ]
    }
   ],
   "source": [
    "# Delete all the rows which contain missing values\n",
    "# Replace all the nominal data with 0 and 1\n",
    "\n",
    "dis_data=[]\n",
    "dis_data.append(disease_data[0])\n",
    "for i in range(1,len(disease_data)):\n",
    "    w=True\n",
    "    for j in range(len(disease_data[i])):\n",
    "        if(disease_data[i][j]=='?'):\n",
    "            w=False\n",
    "            break\n",
    "    if w:\n",
    "        dis_data.append(disease_data[i])\n",
    "print(len(dis_data[1:]))\n",
    "print(dis_data[0:3])\n",
    "\n",
    "dis_data2=[]\n",
    "dis_data2.append(dis_data[0])\n",
    "for i in range(1,len(dis_data)):\n",
    "    line=dis_data[i]\n",
    "    for j in range(len(line)):\n",
    "        if line[j]=='normal':\n",
    "            line[j]='0'\n",
    "        elif(line[j]=='abnormal'):\n",
    "            line[j]='1'\n",
    "        elif(line[j]=='present'):\n",
    "            line[j]='0'\n",
    "        elif(line[j]=='notpresent'):\n",
    "            line[j]='1'\n",
    "        elif(line[j]=='yes'):\n",
    "            line[j]='0'\n",
    "        elif(line[j]=='no'):\n",
    "            line[j]='1'\n",
    "        elif(line[j]=='good'):\n",
    "            line[j]='0'\n",
    "        elif(line[j]=='poor'):\n",
    "            line[j]='1'\n",
    "        elif(line[j]=='ckd'):\n",
    "            line[j]='0'\n",
    "        elif(line[j]=='notckd'):\n",
    "            line[j]='1'\n",
    "        line[j]=float(line[j])\n",
    "    dis_data2.append(line)\n",
    "\n",
    "print(dis_data2[0:3])"
   ]
  },
  {
   "cell_type": "code",
   "execution_count": 208,
   "metadata": {},
   "outputs": [
    {
     "name": "stdout",
     "output_type": "stream",
     "text": [
      "126\n",
      "126\n",
      "32\n",
      "32\n"
     ]
    }
   ],
   "source": [
    "from sklearn.model_selection import train_test_split\n",
    "xx=[]\n",
    "yy=[]\n",
    "for i in range(1,len(dis_data2)):\n",
    "    xx.append(dis_data2[i][:-1])\n",
    "    yy.append(dis_data2[i][-1])\n",
    "X=np.array(xx)\n",
    "y=np.array(yy)\n",
    "X_train, X_test, y_train, y_test = train_test_split(X, y, test_size=0.2, random_state=42)\n",
    "\n",
    "print(len(X_train))\n",
    "print(len(y_train))\n",
    "print(len(X_test))\n",
    "print(len(y_test))"
   ]
  },
  {
   "cell_type": "code",
   "execution_count": 209,
   "metadata": {},
   "outputs": [
    {
     "name": "stdout",
     "output_type": "stream",
     "text": [
      "[['age', 'bp', 'sg', 'al', 'su', 'rbc', 'pc', 'pcc', 'ba', 'bgr', 'bu', 'sc', 'sod', 'pot', 'hemo', 'pcv', 'wbcc', 'rbcc', 'htn', 'dm', 'cad', 'appet', 'pe', 'ane', 'class'], [48.0, 70.0, 1.005, 4.0, 0.0, 0.0, 1.0, 0.0, 1.0, 117.0, 56.0, 3.8, 111.0, 2.5, 11.2, 32.0, 6700.0, 3.9, 0.0, 1.0, 1.0, 1.0, 0.0, 0.0, 0.0], [53.0, 90.0, 1.02, 2.0, 0.0, 1.0, 1.0, 0.0, 1.0, 70.0, 107.0, 7.2, 114.0, 3.7, 9.5, 29.0, 12100.0, 3.7, 0.0, 0.0, 1.0, 1.0, 1.0, 0.0, 0.0]]\n",
      "(158, 24)\n",
      "[[ -9.20108423e-02  -2.87757451e-01  -1.47275750e-02   1.92014114e+00\n",
      "   -2.65302393e-01  -2.45769576e-01   1.41400115e+00  -9.14991422e-01\n",
      "    7.61693689e-02  -2.18156848e-01   7.16353519e-02   4.73113422e-01\n",
      "   -1.99637188e+00  -5.23721483e-01  -5.31005101e-01  -8.89572887e-01\n",
      "   -5.69519629e-01  -4.07467909e-01  -8.03637563e-01   1.80065240e-01\n",
      "    6.97895930e-02   1.85037510e+00  -8.80500368e-01  -9.03378079e-01]\n",
      " [  2.02274848e-01   1.13304496e+00   1.25341063e-04   7.21001614e-01\n",
      "   -2.65302393e-01   1.91154115e+00   1.41400115e+00  -9.14991422e-01\n",
      "    7.61693689e-02  -9.33087454e-01   1.13861810e+00   1.47137159e+00\n",
      "   -1.78130818e+00  -2.29593541e-01  -8.93926145e-01  -1.15865875e+00\n",
      "    1.16217726e+00  -4.89637570e-01  -8.03637563e-01  -8.36017184e-01\n",
      "    6.97895930e-02   1.85037510e+00   1.27608749e-01  -9.03378079e-01]\n",
      " [  7.90846228e-01  -2.87757451e-01  -9.77660295e-03   1.32057138e+00\n",
      "   -2.65302393e-01   1.91154115e+00   1.41400115e+00  -9.14991422e-01\n",
      "    7.61693689e-02   3.78241229e+00   1.55320273e-01   1.50147543e-01\n",
      "   -5.62613893e-01  -1.07040232e-01  -6.16398288e-01  -8.89572887e-01\n",
      "   -1.27502577e+00  -4.48552740e-01  -8.03637563e-01  -8.36017184e-01\n",
      "    6.97895930e-02   1.85037510e+00  -8.80500368e-01   1.01789079e-01]]\n"
     ]
    }
   ],
   "source": [
    "#standardization of the data (on delete data with missing value)\n",
    "\n",
    "#print(dis_data2[0:3])\n",
    "\n",
    "d=[[] for i in range(24)]\n",
    "\n",
    "for i in range(1,len(dis_data2)):\n",
    "    line=dis_data2[i]\n",
    "    for j in range(len(line)-1):\n",
    "        d[j].append(line[j])\n",
    "    \n",
    "darr= np.array(d)\n",
    "#print(darr)\n",
    "mean= [0]*24\n",
    "SD= [0]*24\n",
    "for i in range(len(darr)):\n",
    "    sumd=0\n",
    "    for j in range(len(darr[i])):\n",
    "        sumd+=darr[i][j]\n",
    "    mean[i]=sumd/darr.shape[1]\n",
    "    for j in range(len(darr[i])):\n",
    "        sumd+=(darr[i][j]-mean[i])**2\n",
    "    SD[i]=math.sqrt(sumd/darr.shape[1])\n",
    "#print(mean)\n",
    "#print(SD)\n",
    "\n",
    "dis_data3=[]\n",
    "for i in range(1,len(dis_data2)):\n",
    "    line= []\n",
    "    for j in range(len(dis_data2[i])-1):\n",
    "        line.append((dis_data2[i][j]-mean[j])/SD[j])\n",
    "    dis_data3.append(line)\n",
    "\n",
    "print(dis_data2[0:3])    \n",
    "print(np.array(dis_data3).shape)\n",
    "print(np.array(dis_data3)[0:3])"
   ]
  },
  {
   "cell_type": "code",
   "execution_count": 210,
   "metadata": {},
   "outputs": [
    {
     "name": "stdout",
     "output_type": "stream",
     "text": [
      "126\n",
      "126\n",
      "32\n",
      "32\n"
     ]
    }
   ],
   "source": [
    "xxstd=[]\n",
    "yystd=[]\n",
    "for i in range(len(dis_data3)):\n",
    "    xxstd.append(dis_data3[i])\n",
    "Xstd=np.array(xx)\n",
    "    \n",
    "for i in range(1,len(dis_data2)):\n",
    "    yystd.append(dis_data2[i][-1])\n",
    "ystd=np.array(yy)\n",
    "\n",
    "X_train_STD, X_test_STD, y_train_STD, y_test_STD = train_test_split(Xstd, ystd, test_size=0.2, random_state=42)\n",
    "print(len(X_train_STD))\n",
    "print(len(y_train_STD))\n",
    "print(len(X_test_STD))\n",
    "print(len(y_test_STD))"
   ]
  },
  {
   "cell_type": "code",
   "execution_count": 213,
   "metadata": {},
   "outputs": [],
   "source": [
    "# This is the implementation of the Logistic Regression\n",
    "\n",
    "class LR:\n",
    "    def __init__(self):\n",
    "        self.dim = 24\n",
    "        #self.w = np.random.random(self.dim)\n",
    "        self.w = np.array([1.0]*self.dim)\n",
    "        self.b = 0\n",
    "        self.eta = 0.2\n",
    "        \n",
    "    def sigmoid(self, x):\n",
    "        return 1.0/(1.0+np.exp(-x))\n",
    "    \n",
    "    def logistic_regression(self,x,y,eta):\n",
    "        itr = 0\n",
    "        self.eta = eta\n",
    "        row, column = np.shape(x)\n",
    "        #print(row, column)\n",
    "        while itr <= 10000:\n",
    "            fx = np.dot(self.w, x.T) + self.b\n",
    "            hx = self.sigmoid(fx)\n",
    "            t = (hx-y)\n",
    "            #print(hx)\n",
    "            s=[]\n",
    "            for i in range(len(x)):\n",
    "                ss=[]\n",
    "                for j in range(len(x[i])):\n",
    "                    ss.append(x[i][j]*t[i])\n",
    "                s.append(ss)\n",
    "            gradient_w = np.sum(s, 0)/row * self.eta\n",
    "            gradient_b = np.sum(t, 0)/row * self.eta\n",
    "            self.w -= gradient_w\n",
    "            self.b -= gradient_b\n",
    "            itr+=1\n",
    "        #print(hx)\n",
    "        return (hx, self.w, self.b)\n",
    "            "
   ]
  },
  {
   "cell_type": "code",
   "execution_count": 100,
   "metadata": {},
   "outputs": [
    {
     "name": "stdout",
     "output_type": "stream",
     "text": [
      "[ 1.  1.  1.  1.  1.  1.  1.  1.  1.  1.  1.  1.  1.  1.  1.  1.  1.  1.\n",
      "  1.  1.  1.  1.  1.  1.  1.  1.  1.  1.  1.  1.  1.  1.]\n",
      "[ 1.  1.  1.  1.  1.  0.  1.  1.  1.  1.  0.  1.  0.  1.  0.  0.  1.  1.\n",
      "  1.  1.  1.  0.  0.  0.  0.  1.  1.  1.  1.  1.  1.  1.]\n"
     ]
    }
   ],
   "source": [
    "lr = LR()\n",
    "nw, nb= lr.logistic_regression(X_train,y_train,eta=-2)\n",
    "    \n",
    "fx = np.dot(nw, X_test.T) + nb\n",
    "y_pred = lr.sigmoid(fx)\n",
    "\n",
    "print(y_pred)\n",
    "print(y_test)"
   ]
  },
  {
   "cell_type": "code",
   "execution_count": 101,
   "metadata": {},
   "outputs": [
    {
     "name": "stdout",
     "output_type": "stream",
     "text": [
      "[[ 0  9]\n",
      " [ 0 23]]\n",
      "0 9 0 23\n",
      "0.836363636364\n"
     ]
    }
   ],
   "source": [
    "from sklearn.metrics import confusion_matrix\n",
    "result= confusion_matrix(y_test, y_pred)\n",
    "print(result)\n",
    "\n",
    "TN, FP, FN, TP = result.ravel()\n",
    "print(TN,FP,FN,TP)\n",
    "Pre=TP/(TP+FP)\n",
    "Rec=TP/(TP+FN)\n",
    "f_measure= 2*Pre*Rec/(Pre+Rec)\n",
    "print(f_measure)"
   ]
  },
  {
   "cell_type": "code",
   "execution_count": 175,
   "metadata": {},
   "outputs": [
    {
     "name": "stdout",
     "output_type": "stream",
     "text": [
      "i=-2.000000\n",
      "train f-measure: 0.844037\n",
      "test f-measure: 0.836364\n",
      "i=-1.800000\n",
      "train f-measure: 0.844037\n",
      "test f-measure: 0.836364\n",
      "i=-1.600000\n",
      "train f-measure: 0.844037\n",
      "test f-measure: 0.836364\n",
      "i=-1.400000\n",
      "train f-measure: 0.844037\n",
      "test f-measure: 0.836364\n",
      "i=-1.200000\n",
      "train f-measure: 0.844037\n",
      "test f-measure: 0.836364\n",
      "i=-1.000000\n",
      "train f-measure: 0.844037\n",
      "test f-measure: 0.836364\n",
      "i=-0.800000\n",
      "train f-measure: 0.844037\n",
      "test f-measure: 0.836364\n",
      "i=-0.600000\n",
      "train f-measure: 0.844037\n",
      "test f-measure: 0.836364\n",
      "i=-0.400000\n",
      "train f-measure: 0.844037\n",
      "test f-measure: 0.836364\n",
      "i=-0.200000\n",
      "train f-measure: 0.844037\n",
      "test f-measure: 0.836364\n",
      "i=-0.000000\n",
      "train f-measure: 0.844037\n",
      "test f-measure: 0.836364\n",
      "i=0.200000\n"
     ]
    },
    {
     "name": "stderr",
     "output_type": "stream",
     "text": [
      "C:\\Users\\Administrator.2013-20160702VU\\Anaconda3\\lib\\site-packages\\ipykernel_launcher.py:12: RuntimeWarning: overflow encountered in exp\n",
      "  if sys.path[0] == '':\n"
     ]
    },
    {
     "name": "stdout",
     "output_type": "stream",
     "text": [
      "train f-measure: 0.989130\n",
      "test f-measure: 0.978723\n",
      "i=0.400000\n",
      "train f-measure: 0.989130\n",
      "test f-measure: 0.978723\n",
      "i=0.600000\n",
      "train f-measure: 0.989130\n",
      "test f-measure: 0.978723\n",
      "i=0.800000\n",
      "train f-measure: 0.989130\n",
      "test f-measure: 0.978723\n",
      "i=1.000000\n",
      "train f-measure: 0.989130\n",
      "test f-measure: 0.978723\n",
      "i=1.200000\n",
      "train f-measure: 0.989130\n",
      "test f-measure: 0.978723\n",
      "i=1.400000\n",
      "train f-measure: 0.989130\n",
      "test f-measure: 0.978723\n",
      "i=1.600000\n",
      "train f-measure: 0.989130\n",
      "test f-measure: 0.978723\n",
      "i=1.800000\n",
      "train f-measure: 0.989130\n",
      "test f-measure: 0.978723\n",
      "i=2.000000\n",
      "train f-measure: 0.989130\n",
      "test f-measure: 0.978723\n",
      "i=2.200000\n",
      "train f-measure: 0.989130\n",
      "test f-measure: 0.978723\n",
      "i=2.400000\n",
      "train f-measure: 0.989130\n",
      "test f-measure: 0.978723\n",
      "i=2.600000\n",
      "train f-measure: 0.989130\n",
      "test f-measure: 0.978723\n",
      "i=2.800000\n",
      "train f-measure: 0.989130\n",
      "test f-measure: 0.978723\n",
      "i=3.000000\n",
      "train f-measure: 0.989130\n",
      "test f-measure: 0.978723\n",
      "i=3.200000\n",
      "train f-measure: 0.989130\n",
      "test f-measure: 0.978723\n",
      "i=3.400000\n",
      "train f-measure: 0.989130\n",
      "test f-measure: 0.978723\n",
      "i=3.600000\n",
      "train f-measure: 0.989130\n",
      "test f-measure: 0.978723\n",
      "i=3.800000\n",
      "train f-measure: 0.989130\n",
      "test f-measure: 0.978723\n",
      "i=4.000000\n",
      "train f-measure: 0.989130\n",
      "test f-measure: 0.978723\n"
     ]
    }
   ],
   "source": [
    "f_list_train=[]\n",
    "f_list_test=[]\n",
    "rg= np.arange(-2,4.2,0.2)\n",
    "for i in rg:\n",
    "    print('i=%f' %i)\n",
    "    lr = LR()\n",
    "    yy, nw, nb= lr.logistic_regression(X_train,y_train,eta=i)\n",
    "    result= confusion_matrix(y_train, yy)\n",
    "    TN, FP, FN, TP = result.ravel()\n",
    "    Pre=TP/(TP+FP)\n",
    "    Rec=TP/(TP+FN)\n",
    "    f_measure= 2*Pre*Rec/(Pre+Rec)\n",
    "    print('train f-measure: %f' %f_measure)\n",
    "    f_list_train.append(f_measure)\n",
    "    \n",
    "    fx = np.dot(nw, X_test.T) + nb\n",
    "    y_pred = lr.sigmoid(fx)\n",
    "    result= confusion_matrix(y_test, y_pred)\n",
    "    TN, FP, FN, TP = result.ravel()\n",
    "    Pre=TP/(TP+FP)\n",
    "    Rec=TP/(TP+FN)\n",
    "    f_measure= 2*Pre*Rec/(Pre+Rec)\n",
    "    print('test f-measure: %f' %f_measure)\n",
    "    f_list_test.append(f_measure)"
   ]
  },
  {
   "cell_type": "code",
   "execution_count": 187,
   "metadata": {},
   "outputs": [
    {
     "data": {
      "image/png": "[encoded data removed]",
      "text/plain": [
       "<matplotlib.figure.Figure at 0x13e250b8>"
      ]
     },
     "metadata": {},
     "output_type": "display_data"
    }
   ],
   "source": [
    "plt.title(\"f_measure for training set\")\n",
    "plt.xlabel(\"Lambda\")\n",
    "plt.ylabel(\"f_measures\")\n",
    "plt.plot(np.arange(-2, 4.1, 0.2), f_list_train,label='train')\n",
    "plt.plot(np.arange(-2, 4.1, 0.2), f_list_test,label='test')\n",
    "plt.legend(loc='best')\n",
    "plt.show()"
   ]
  },
  {
   "cell_type": "code",
   "execution_count": 181,
   "metadata": {},
   "outputs": [
    {
     "data": {
      "image/png": "[encoded data removed]",
      "text/plain": [
       "<matplotlib.figure.Figure at 0xcfdc2e8>"
      ]
     },
     "metadata": {},
     "output_type": "display_data"
    }
   ],
   "source": [
    "plt.title(\"f_measure for training set\")\n",
    "plt.xlabel(\"Lambda\")\n",
    "plt.ylabel(\"f_measures\")\n",
    "plt.plot(np.arange(-2, 4.1, 0.2), f_list_test)\n",
    "plt.show()"
   ]
  },
  {
   "cell_type": "code",
   "execution_count": 214,
   "metadata": {},
   "outputs": [
    {
     "name": "stdout",
     "output_type": "stream",
     "text": [
      "i=-2.000000\n",
      "train f-measure: 0.844037\n",
      "test f-measure: 0.836364\n",
      "i=-1.800000\n",
      "train f-measure: 0.844037\n",
      "test f-measure: 0.836364\n",
      "i=-1.600000\n",
      "train f-measure: 0.844037\n",
      "test f-measure: 0.836364\n",
      "i=-1.400000\n",
      "train f-measure: 0.844037\n",
      "test f-measure: 0.836364\n",
      "i=-1.200000\n",
      "train f-measure: 0.844037\n",
      "test f-measure: 0.836364\n",
      "i=-1.000000\n",
      "train f-measure: 0.844037\n",
      "test f-measure: 0.836364\n",
      "i=-0.800000\n",
      "train f-measure: 0.844037\n",
      "test f-measure: 0.836364\n",
      "i=-0.600000\n",
      "train f-measure: 0.844037\n",
      "test f-measure: 0.836364\n",
      "i=-0.400000\n",
      "train f-measure: 0.844037\n",
      "test f-measure: 0.836364\n",
      "i=-0.200000\n",
      "train f-measure: 0.844037\n",
      "test f-measure: 0.836364\n",
      "i=-0.000000\n",
      "train f-measure: 0.844037\n",
      "test f-measure: 0.836364\n",
      "i=0.200000\n"
     ]
    },
    {
     "name": "stderr",
     "output_type": "stream",
     "text": [
      "C:\\Users\\Administrator.2013-20160702VU\\Anaconda3\\lib\\site-packages\\ipykernel_launcher.py:12: RuntimeWarning: overflow encountered in exp\n",
      "  if sys.path[0] == '':\n"
     ]
    },
    {
     "name": "stdout",
     "output_type": "stream",
     "text": [
      "train f-measure: 0.989130\n",
      "test f-measure: 0.978723\n",
      "i=0.400000\n",
      "train f-measure: 0.989130\n",
      "test f-measure: 0.978723\n",
      "i=0.600000\n",
      "train f-measure: 0.989130\n",
      "test f-measure: 0.978723\n",
      "i=0.800000\n",
      "train f-measure: 0.989130\n",
      "test f-measure: 0.978723\n",
      "i=1.000000\n",
      "train f-measure: 0.989130\n",
      "test f-measure: 0.978723\n",
      "i=1.200000\n",
      "train f-measure: 0.989130\n",
      "test f-measure: 0.978723\n",
      "i=1.400000\n",
      "train f-measure: 0.989130\n",
      "test f-measure: 0.978723\n",
      "i=1.600000\n",
      "train f-measure: 0.989130\n",
      "test f-measure: 0.978723\n",
      "i=1.800000\n",
      "train f-measure: 0.989130\n",
      "test f-measure: 0.978723\n",
      "i=2.000000\n",
      "train f-measure: 0.989130\n",
      "test f-measure: 0.978723\n",
      "i=2.200000\n",
      "train f-measure: 0.989130\n",
      "test f-measure: 0.978723\n",
      "i=2.400000\n",
      "train f-measure: 0.989130\n",
      "test f-measure: 0.978723\n",
      "i=2.600000\n",
      "train f-measure: 0.989130\n",
      "test f-measure: 0.978723\n",
      "i=2.800000\n",
      "train f-measure: 0.989130\n",
      "test f-measure: 0.978723\n",
      "i=3.000000\n",
      "train f-measure: 0.989130\n",
      "test f-measure: 0.978723\n",
      "i=3.200000\n",
      "train f-measure: 0.989130\n",
      "test f-measure: 0.978723\n",
      "i=3.400000\n",
      "train f-measure: 0.989130\n",
      "test f-measure: 0.978723\n",
      "i=3.600000\n",
      "train f-measure: 0.989130\n",
      "test f-measure: 0.978723\n",
      "i=3.800000\n",
      "train f-measure: 0.989130\n",
      "test f-measure: 0.978723\n",
      "i=4.000000\n",
      "train f-measure: 0.989130\n",
      "test f-measure: 0.978723\n"
     ]
    }
   ],
   "source": [
    "f_list_train=[]\n",
    "f_list_test=[]\n",
    "rg= np.arange(-2,4.2,0.2)\n",
    "for i in rg:\n",
    "    print('i=%f' %i)\n",
    "    lr = LR()\n",
    "    yy, nw, nb= lr.logistic_regression(X_train_STD,y_train_STD,eta=i)\n",
    "    result= confusion_matrix(y_train_STD, yy)\n",
    "    #print(y_train_STD)\n",
    "    #print(yy)\n",
    "    #print(result)\n",
    "    TN, FP, FN, TP = result.ravel()\n",
    "    Pre=TP/(TP+FP)\n",
    "    Rec=TP/(TP+FN)\n",
    "    f_measure= 2*Pre*Rec/(Pre+Rec)\n",
    "    print('train f-measure: %f' %f_measure)\n",
    "    f_list_train.append(f_measure)\n",
    "    \n",
    "    fx = np.dot(nw, X_test_STD.T) + nb\n",
    "    y_pred = lr.sigmoid(fx)\n",
    "    result= confusion_matrix(y_test_STD, y_pred)\n",
    "    #print(result)\n",
    "    TN, FP, FN, TP = result.ravel()\n",
    "    Pre=TP/(TP+FP)\n",
    "    Rec=TP/(TP+FN)\n",
    "    f_measure= 2*Pre*Rec/(Pre+Rec)\n",
    "    print('test f-measure: %f' %f_measure)\n",
    "    f_list_test.append(f_measure)\n",
    "    "
   ]
  },
  {
   "cell_type": "code",
   "execution_count": 215,
   "metadata": {},
   "outputs": [
    {
     "data": {
      "image/png": "[encoded data removed]",
      "text/plain": [
       "<matplotlib.figure.Figure at 0x17acff28>"
      ]
     },
     "metadata": {},
     "output_type": "display_data"
    }
   ],
   "source": [
    "plt.title(\"f_measure for training set\")\n",
    "plt.xlabel(\"Lambda\")\n",
    "plt.ylabel(\"f_measures\")\n",
    "plt.plot(np.arange(-2, 4.1, 0.2), f_list_train,label='train')\n",
    "plt.plot(np.arange(-2, 4.1, 0.2), f_list_test,label='test')\n",
    "plt.legend(loc='best')\n",
    "plt.show()"
   ]
  },
  {
   "cell_type": "code",
   "execution_count": null,
   "metadata": {},
   "outputs": [],
   "source": []
  }
 ],
 "metadata": {
  "kernelspec": {
   "display_name": "Python 3",
   "language": "python",
   "name": "python3"
  },
  "language_info": {
   "codemirror_mode": {
    "name": "ipython",
    "version": 3
   },
   "file_extension": ".py",
   "mimetype": "text/x-python",
   "name": "python",
   "nbconvert_exporter": "python",
   "pygments_lexer": "ipython3",
   "version": "3.6.1"
  }
 },
 "nbformat": 4,
 "nbformat_minor": 2
}
