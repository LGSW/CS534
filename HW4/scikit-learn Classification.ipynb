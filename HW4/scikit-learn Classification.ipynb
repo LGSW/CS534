{
 "cells": [
  {
   "cell_type": "markdown",
   "metadata": {},
   "source": [
    "# Problem 4 scikit-learn Classification"
   ]
  },
  {
   "cell_type": "code",
   "execution_count": 35,
   "metadata": {
    "collapsed": true
   },
   "outputs": [],
   "source": [
    "import csv\n",
    "import numpy as np\n",
    "from sklearn.model_selection import train_test_split\n",
    "from sklearn.metrics import confusion_matrix\n",
    "from sklearn.svm import SVC\n",
    "from sklearn.ensemble import RandomForestClassifier"
   ]
  },
  {
   "cell_type": "code",
   "execution_count": 2,
   "metadata": {},
   "outputs": [
    {
     "name": "stdout",
     "output_type": "stream",
     "text": [
      "400\n",
      "[['age', 'bp', 'sg', 'al', 'su', 'rbc', 'pc', 'pcc', 'ba', 'bgr', 'bu', 'sc', 'sod', 'pot', 'hemo', 'pcv', 'wbcc', 'rbcc', 'htn', 'dm', 'cad', 'appet', 'pe', 'ane', 'class'], ['48', '80', '1.020', '1', '0', '?', 'normal', 'notpresent', 'notpresent', '121', '36', '1.2', '?', '?', '15.4', '44', '7800', '5.2', 'yes', 'yes', 'no', 'good', 'no', 'no', 'ckd']]\n",
      "[['age' 'bp' 'sg' ..., 'pe' 'ane' 'class']\n",
      " ['48' '80' '1.020' ..., 'no' 'no' 'ckd']\n",
      " ['7' '50' '1.020' ..., 'no' 'no' 'ckd']\n",
      " ..., \n",
      " ['12' '80' '1.020' ..., 'no' 'no' 'notckd']\n",
      " ['17' '60' '1.025' ..., 'no' 'no' 'notckd']\n",
      " ['58' '80' '1.025' ..., 'no' 'no' 'notckd']]\n"
     ]
    }
   ],
   "source": [
    "disease_data=[]\n",
    "csv_reader = csv.reader(open('realdata1/chronic_kidney_disease_full.csv', encoding='utf-8'))\n",
    "for row in csv_reader:\n",
    "    disease_data.append(row)\n",
    "print(len(disease_data[1:]))\n",
    "print(disease_data[0:2])\n",
    "arr=np.array(disease_data)\n",
    "print(arr)"
   ]
  },
  {
   "cell_type": "code",
   "execution_count": 57,
   "metadata": {},
   "outputs": [
    {
     "name": "stdout",
     "output_type": "stream",
     "text": [
      "158\n",
      "[['age', 'bp', 'sg', 'al', 'su', 'rbc', 'pc', 'pcc', 'ba', 'bgr', 'bu', 'sc', 'sod', 'pot', 'hemo', 'pcv', 'wbcc', 'rbcc', 'htn', 'dm', 'cad', 'appet', 'pe', 'ane', 'class'], [48.0, 70.0, 1.005, 4.0, 0.0, 0.0, 1.0, 0.0, 1.0, 117.0, 56.0, 3.8, 111.0, 2.5, 11.2, 32.0, 6700.0, 3.9, 0.0, 1.0, 1.0, 1.0, 0.0, 0.0, 0.0], [53.0, 90.0, 1.02, 2.0, 0.0, 1.0, 1.0, 0.0, 1.0, 70.0, 107.0, 7.2, 114.0, 3.7, 9.5, 29.0, 12100.0, 3.7, 0.0, 0.0, 1.0, 1.0, 1.0, 0.0, 0.0]]\n",
      "158\n",
      "[['age', 'bp', 'sg', 'al', 'su', 'rbc', 'pc', 'pcc', 'ba', 'bgr', 'bu', 'sc', 'sod', 'pot', 'hemo', 'pcv', 'wbcc', 'rbcc', 'htn', 'dm', 'cad', 'appet', 'pe', 'ane', 'class'], [48.0, 70.0, 1.005, 4.0, 0.0, 0.0, 1.0, 0.0, 1.0, 117.0, 56.0, 3.8, 111.0, 2.5, 11.2, 32.0, 6700.0, 3.9, 0.0, 1.0, 1.0, 1.0, 0.0, 0.0, 0.0], [53.0, 90.0, 1.02, 2.0, 0.0, 1.0, 1.0, 0.0, 1.0, 70.0, 107.0, 7.2, 114.0, 3.7, 9.5, 29.0, 12100.0, 3.7, 0.0, 0.0, 1.0, 1.0, 1.0, 0.0, 0.0]]\n"
     ]
    }
   ],
   "source": [
    "# Delete all the rows which contain missing values\n",
    "# Replace all the nominal data with 0 and 1\n",
    "\n",
    "dis_data=[]\n",
    "dis_data.append(disease_data[0])\n",
    "for i in range(1,len(disease_data)):\n",
    "    w=True\n",
    "    for j in range(len(disease_data[i])):\n",
    "        if(disease_data[i][j]=='?'):\n",
    "            w=False\n",
    "            break\n",
    "    if w:\n",
    "        dis_data.append(disease_data[i])\n",
    "print(len(dis_data[1:]))\n",
    "print(dis_data[0:3])\n",
    "\n",
    "dis_data2=[]\n",
    "dis_data2.append(dis_data[0])\n",
    "for i in range(1,len(dis_data)):\n",
    "    line=dis_data[i]\n",
    "    for j in range(len(line)):\n",
    "        if line[j]=='normal':\n",
    "            line[j]='0'\n",
    "        elif(line[j]=='abnormal'):\n",
    "            line[j]='1'\n",
    "        elif(line[j]=='present'):\n",
    "            line[j]='0'\n",
    "        elif(line[j]=='notpresent'):\n",
    "            line[j]='1'\n",
    "        elif(line[j]=='yes'):\n",
    "            line[j]='0'\n",
    "        elif(line[j]=='no'):\n",
    "            line[j]='1'\n",
    "        elif(line[j]=='good'):\n",
    "            line[j]='0'\n",
    "        elif(line[j]=='poor'):\n",
    "            line[j]='1'\n",
    "        elif(line[j]=='ckd'):\n",
    "            line[j]='0'\n",
    "        elif(line[j]=='notckd'):\n",
    "            line[j]='1'\n",
    "        line[j]=float(line[j])\n",
    "    dis_data2.append(line)\n",
    "\n",
    "print(len(dis_data2[1:]))\n",
    "print(dis_data2[0:3])\n"
   ]
  },
  {
   "cell_type": "code",
   "execution_count": 20,
   "metadata": {},
   "outputs": [
    {
     "name": "stdout",
     "output_type": "stream",
     "text": [
      "126\n",
      "126\n",
      "32\n",
      "32\n"
     ]
    }
   ],
   "source": [
    "from sklearn.model_selection import train_test_split\n",
    "xx=[]\n",
    "yy=[]\n",
    "for i in range(1,len(dis_data2)):\n",
    "    xx.append(dis_data2[i][:-1])\n",
    "    yy.append(dis_data2[i][-1])\n",
    "X=np.array(xx)\n",
    "y=np.array(yy)\n",
    "X_train, X_test, y_train, y_test = train_test_split(X, y, test_size=0.2, random_state=42)\n",
    "\n",
    "print(len(X_train))\n",
    "print(len(y_train))\n",
    "print(len(X_test))\n",
    "print(len(y_test))"
   ]
  },
  {
   "cell_type": "code",
   "execution_count": 55,
   "metadata": {},
   "outputs": [
    {
     "name": "stdout",
     "output_type": "stream",
     "text": [
      "train:\n",
      "[[34  0]\n",
      " [ 0 92]]\n",
      "1.0\n",
      "test:\n",
      "[[ 8  1]\n",
      " [ 0 23]]\n",
      "0.978723404255\n"
     ]
    }
   ],
   "source": [
    "# Support Vector Machine with the linear kernel and default parameters\n",
    "\n",
    "from sklearn.svm import SVC\n",
    "from sklearn.metrics import confusion_matrix\n",
    "\n",
    "clf_linearSVC = SVC(kernel='linear')\n",
    "clf_linearSVC.fit(X_train, y_train) \n",
    "y_pred_train= clf_linearSVC.predict(X_train)\n",
    "y_pred_test= clf_linearSVC.predict(X_test)\n",
    "\n",
    "cf_train = confusion_matrix(y_train, y_pred_train)\n",
    "TN, FP, FN, TP = cf_train.ravel()\n",
    "Pre=TP/(TP+FP)\n",
    "Rec=TP/(TP+FN)\n",
    "f_measure= 2*Pre*Rec/(Pre+Rec)\n",
    "print('train:')\n",
    "print(cf_train)\n",
    "print(f_measure)\n",
    "\n",
    "cf_test = confusion_matrix(y_test, y_pred_test)\n",
    "TN, FP, FN, TP = cf_test.ravel()\n",
    "Pre=TP/(TP+FP)\n",
    "Rec=TP/(TP+FN)\n",
    "f_measure= 2*Pre*Rec/(Pre+Rec)\n",
    "print('test:')\n",
    "print(cf_test)\n",
    "print(f_measure)"
   ]
  },
  {
   "cell_type": "code",
   "execution_count": 54,
   "metadata": {},
   "outputs": [
    {
     "name": "stdout",
     "output_type": "stream",
     "text": [
      "train:\n",
      "[[34  0]\n",
      " [ 0 92]]\n",
      "1.0\n",
      "test:\n",
      "[[ 0  9]\n",
      " [ 0 23]]\n",
      "0.836363636364\n"
     ]
    }
   ],
   "source": [
    "# Support Vector Machine with the RBF kernel and default parameters\n",
    "\n",
    "clf_rbfSVC = SVC(kernel='rbf')\n",
    "clf_rbfSVC.fit(X_train, y_train) \n",
    "y_pred_train= clf_rbfSVC.predict(X_train)\n",
    "y_pred_test= clf_rbfSVC.predict(X_test)\n",
    "\n",
    "cf_train = confusion_matrix(y_train, y_pred_train)\n",
    "TN, FP, FN, TP = cf_train.ravel()\n",
    "Pre=TP/(TP+FP)\n",
    "Rec=TP/(TP+FN)\n",
    "f_measure= 2*Pre*Rec/(Pre+Rec)\n",
    "print('train:')\n",
    "print(cf_train)\n",
    "print(f_measure)\n",
    "\n",
    "cf_test = confusion_matrix(y_test, y_pred_test)\n",
    "TN, FP, FN, TP = cf_test.ravel()\n",
    "Pre=TP/(TP+FP)\n",
    "Rec=TP/(TP+FN)\n",
    "f_measure= 2*Pre*Rec/(Pre+Rec)\n",
    "print('test:')\n",
    "print(cf_test)\n",
    "print(f_measure)"
   ]
  },
  {
   "cell_type": "code",
   "execution_count": 53,
   "metadata": {},
   "outputs": [
    {
     "name": "stdout",
     "output_type": "stream",
     "text": [
      "train:\n",
      "[[34  0]\n",
      " [ 0 92]]\n",
      "1.0\n",
      "test:\n",
      "[[ 9  0]\n",
      " [ 0 23]]\n",
      "1.0\n"
     ]
    }
   ],
   "source": [
    "# Random forest with default parameters (sklearn.ensemble.RandomForestClassifier)\n",
    "\n",
    "from sklearn.ensemble import RandomForestClassifier\n",
    "clf_RF = RandomForestClassifier()\n",
    "clf_RF.fit(X_train, y_train) \n",
    "y_pred_train = clf_RF.predict(X_train)\n",
    "y_pred_test = clf_RF.predict(X_test)\n",
    "\n",
    "cf_train = confusion_matrix(y_train, y_pred_train)\n",
    "TN, FP, FN, TP = cf_train.ravel()\n",
    "Pre=TP/(TP+FP)\n",
    "Rec=TP/(TP+FN)\n",
    "f_measure= 2*Pre*Rec/(Pre+Rec)\n",
    "print('train:')\n",
    "print(cf_train)\n",
    "print(f_measure)\n",
    "\n",
    "cf_test = confusion_matrix(y_test, y_pred_test)\n",
    "TN, FP, FN, TP = cf_test.ravel()\n",
    "Pre=TP/(TP+FP)\n",
    "Rec=TP/(TP+FN)\n",
    "f_measure= 2*Pre*Rec/(Pre+Rec)\n",
    "print('test:')\n",
    "print(cf_test)\n",
    "print(f_measure)"
   ]
  },
  {
   "cell_type": "code",
   "execution_count": null,
   "metadata": {
    "collapsed": true
   },
   "outputs": [],
   "source": []
  }
 ],
 "metadata": {
  "kernelspec": {
   "display_name": "Python 3",
   "language": "python",
   "name": "python3"
  },
  "language_info": {
   "codemirror_mode": {
    "name": "ipython",
    "version": 3
   },
   "file_extension": ".py",
   "mimetype": "text/x-python",
   "name": "python",
   "nbconvert_exporter": "python",
   "pygments_lexer": "ipython3",
   "version": "3.6.1"
  }
 },
 "nbformat": 4,
 "nbformat_minor": 2
}
