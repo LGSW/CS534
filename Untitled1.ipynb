{
 "cells": [
  {
   "cell_type": "code",
   "execution_count": 65,
   "metadata": {
    "scrolled": false
   },
   "outputs": [
    {
     "name": "stdout",
     "output_type": "stream",
     "text": [
      "clean, clean, A\n",
      "2000\n",
      "clean, dirty, A\n",
      "1998\n",
      "dirty, clean, A\n",
      "1999\n",
      "dirty, dirty, A\n",
      "1996\n",
      "clean, clean, B\n",
      "2000\n",
      "clean, dirty, B\n",
      "1999\n",
      "dirty, clean, B\n",
      "1998\n",
      "dirty, dirty, B\n",
      "1996\n"
     ]
    }
   ],
   "source": [
    "def vaccum(A, B, vac_locat):\n",
    "    A_st=A\n",
    "    B_st=B\n",
    "    vac_locat=vac_locat\n",
    "    action_list=[]\n",
    "    sum=0\n",
    "    print('%s, %s, %s'%(A, B, vac_locat))\n",
    "    for i in range (0,1000):\n",
    "        sum+=performance(A_st, B_st)\n",
    "        slist= percept(A_st, B_st, vac_locat)\n",
    "        A_st=slist[0]\n",
    "        B_st=slist[1]\n",
    "        vac_locat=slist[2]\n",
    "        action=slist[3]\n",
    "        \n",
    "        action_list.append(action)\n",
    "    \n",
    "    #print(action_list)\n",
    "    print(sum)\n",
    "    \n",
    "\n",
    "def percept(A,B,vac_locat):\n",
    "    if vac_locat=='A':\n",
    "        if A=='clean':\n",
    "            vac_locat='B'\n",
    "            return (A,B,vac_locat,'right')\n",
    "        elif A=='dirty':\n",
    "            A='clean'\n",
    "            return (A,B,vac_locat,'suck')\n",
    "        \n",
    "    elif vac_locat=='B':\n",
    "        if B=='clean':\n",
    "            vac_locat='A'\n",
    "            return (A,B,vac_locat,'left')\n",
    "        elif B=='dirty':\n",
    "            B='clean'\n",
    "            return (A,B,vac_locat,'suck')\n",
    "    \n",
    "    \n",
    "\n",
    "def performance(A,B):\n",
    "    score=0\n",
    "    if A=='clean':\n",
    "        score+=1\n",
    "    if B=='clean':\n",
    "        score+=1\n",
    "    return score\n",
    "\n",
    "\n",
    "vaccum('clean','clean','A')\n",
    "vaccum('clean','dirty','A')\n",
    "vaccum('dirty','clean','A')\n",
    "vaccum('dirty','dirty','A')\n",
    "vaccum('clean','clean','B')\n",
    "vaccum('clean','dirty','B')\n",
    "vaccum('dirty','clean','B')\n",
    "vaccum('dirty','dirty','B')"
   ]
  },
  {
   "cell_type": "code",
   "execution_count": 60,
   "metadata": {},
   "outputs": [
    {
     "name": "stdout",
     "output_type": "stream",
     "text": [
      "['clean', 'dirty']\n"
     ]
    },
    {
     "ename": "UnboundLocalError",
     "evalue": "local variable 'sum' referenced before assignment",
     "output_type": "error",
     "traceback": [
      "\u001b[1;31m---------------------------------------------------------------------------\u001b[0m",
      "\u001b[1;31mUnboundLocalError\u001b[0m                         Traceback (most recent call last)",
      "\u001b[1;32m<ipython-input-60-2e23f801a51d>\u001b[0m in \u001b[0;36m<module>\u001b[1;34m()\u001b[0m\n\u001b[0;32m     59\u001b[0m \u001b[0mm\u001b[0m\u001b[1;33m=\u001b[0m\u001b[0mEnvironment\u001b[0m\u001b[1;33m(\u001b[0m\u001b[1;34m'clean'\u001b[0m\u001b[1;33m,\u001b[0m\u001b[1;34m'dirty'\u001b[0m\u001b[1;33m)\u001b[0m\u001b[1;33m\u001b[0m\u001b[0m\n\u001b[0;32m     60\u001b[0m \u001b[0mn\u001b[0m\u001b[1;33m=\u001b[0m\u001b[0magent\u001b[0m\u001b[1;33m(\u001b[0m\u001b[1;34m'A'\u001b[0m\u001b[1;33m)\u001b[0m\u001b[1;33m\u001b[0m\u001b[0m\n\u001b[1;32m---> 61\u001b[1;33m \u001b[0mm\u001b[0m\u001b[1;33m.\u001b[0m\u001b[0mprocess\u001b[0m\u001b[1;33m(\u001b[0m\u001b[1;33m)\u001b[0m\u001b[1;33m\u001b[0m\u001b[0m\n\u001b[0m",
      "\u001b[1;32m<ipython-input-60-2e23f801a51d>\u001b[0m in \u001b[0;36mprocess\u001b[1;34m(self)\u001b[0m\n\u001b[0;32m     27\u001b[0m         \u001b[0mx\u001b[0m\u001b[1;33m=\u001b[0m \u001b[0magent\u001b[0m\u001b[1;33m(\u001b[0m\u001b[1;34m'A'\u001b[0m\u001b[1;33m)\u001b[0m\u001b[1;33m\u001b[0m\u001b[0m\n\u001b[0;32m     28\u001b[0m         \u001b[1;32mfor\u001b[0m \u001b[0mi\u001b[0m \u001b[1;32min\u001b[0m \u001b[0mrange\u001b[0m \u001b[1;33m(\u001b[0m\u001b[1;36m0\u001b[0m\u001b[1;33m,\u001b[0m\u001b[1;36m1000\u001b[0m\u001b[1;33m)\u001b[0m\u001b[1;33m:\u001b[0m\u001b[1;33m\u001b[0m\u001b[0m\n\u001b[1;32m---> 29\u001b[1;33m             \u001b[0msum\u001b[0m\u001b[1;33m+=\u001b[0m\u001b[0mperformance\u001b[0m\u001b[1;33m(\u001b[0m\u001b[0mA_st\u001b[0m\u001b[1;33m,\u001b[0m \u001b[0mB_st\u001b[0m\u001b[1;33m)\u001b[0m\u001b[1;33m\u001b[0m\u001b[0m\n\u001b[0m\u001b[0;32m     30\u001b[0m             \u001b[0mst\u001b[0m\u001b[1;33m=\u001b[0m\u001b[0mx\u001b[0m\u001b[1;33m.\u001b[0m\u001b[0mpercept\u001b[0m\u001b[1;33m(\u001b[0m\u001b[0mself\u001b[0m\u001b[1;33m.\u001b[0m\u001b[0menv\u001b[0m\u001b[1;33m)\u001b[0m\u001b[1;33m\u001b[0m\u001b[0m\n\u001b[0;32m     31\u001b[0m             \u001b[0maction\u001b[0m\u001b[1;33m=\u001b[0m\u001b[0mx\u001b[0m\u001b[1;33m.\u001b[0m\u001b[0maction\u001b[0m\u001b[1;33m(\u001b[0m\u001b[0mx\u001b[0m\u001b[1;33m.\u001b[0m\u001b[0mpos\u001b[0m\u001b[1;33m(\u001b[0m\u001b[1;33m)\u001b[0m\u001b[1;33m,\u001b[0m \u001b[0mst\u001b[0m\u001b[1;33m)\u001b[0m\u001b[1;33m\u001b[0m\u001b[0m\n",
      "\u001b[1;31mUnboundLocalError\u001b[0m: local variable 'sum' referenced before assignment"
     ]
    }
   ],
   "source": [
    "class Environment:\n",
    "    def __init__(self, A_st, B_st):\n",
    "        self.A_st=A_st\n",
    "        self.B_st=B_st\n",
    "        self.env=[A_st, B_st]\n",
    "        print(self.env)\n",
    "    \n",
    "    def performance(self, A_st, B_st):\n",
    "        score=0\n",
    "        if A=='clean':\n",
    "            score+=1\n",
    "        if B=='clean':\n",
    "            score+=1\n",
    "        return score\n",
    "    \n",
    "    def change(self, agent1):\n",
    "        if agent1.action()=='suck':\n",
    "            if agent1.pos()=='A':\n",
    "                self.A_st='clean'\n",
    "                self.env=[A_st, B_st]\n",
    "            else:\n",
    "                self.B_st='clean'\n",
    "                self.env=[A_st, B_st]\n",
    "            \n",
    "            \n",
    "    def process(self):\n",
    "        x= agent('A')\n",
    "        for i in range (0,1000):\n",
    "            sum+=performance(A_st, B_st)\n",
    "            st=x.percept(self.env)\n",
    "            action=x.action(x.pos(), st)\n",
    "            change(x)\n",
    "\n",
    "class agent:\n",
    "    def __init__(self,locat):\n",
    "        self.locat=locat\n",
    "        \n",
    "    def pos(self):\n",
    "        return self.locat\n",
    "    \n",
    "    \n",
    "    def percept(self, env):\n",
    "        if self.locat=='A':\n",
    "            self.state=env[0]\n",
    "            return self.state\n",
    "        else:\n",
    "            self.state=env[1]\n",
    "            return self.state\n",
    "        \n",
    "    def action(self, pos ,state):\n",
    "        if state=='dirty':\n",
    "            return 'suck'\n",
    "        elif env=='clean':\n",
    "            if pos=='A':\n",
    "                return 'left'\n",
    "            elif pos=='B':\n",
    "                return 'right'\n",
    "\n",
    "m=Environment('clean','dirty')\n",
    "n=agent('A')\n",
    "m.process()"
   ]
  },
  {
   "cell_type": "code",
   "execution_count": 41,
   "metadata": {
    "collapsed": true
   },
   "outputs": [],
   "source": [
    "class Environment:\n",
    "    def __init__(self, A_st, B_st):\n",
    "        self.A_st=A_st\n",
    "        self.B_st=B_st\n",
    "        self.env=[A_st, B_st]\n",
    "        print(self.env)"
   ]
  },
  {
   "cell_type": "code",
   "execution_count": 42,
   "metadata": {},
   "outputs": [
    {
     "name": "stdout",
     "output_type": "stream",
     "text": [
      "['clean', 'dirty']\n"
     ]
    }
   ],
   "source": []
  },
  {
   "cell_type": "code",
   "execution_count": null,
   "metadata": {
    "collapsed": true
   },
   "outputs": [],
   "source": []
  },
  {
   "cell_type": "code",
   "execution_count": null,
   "metadata": {
    "collapsed": true
   },
   "outputs": [],
   "source": []
  }
 ],
 "metadata": {
  "kernelspec": {
   "display_name": "Python 3",
   "language": "python",
   "name": "python3"
  },
  "language_info": {
   "codemirror_mode": {
    "name": "ipython",
    "version": 3
   },
   "file_extension": ".py",
   "mimetype": "text/x-python",
   "name": "python",
   "nbconvert_exporter": "python",
   "pygments_lexer": "ipython3",
   "version": "3.6.1"
  }
 },
 "nbformat": 4,
 "nbformat_minor": 2
}
