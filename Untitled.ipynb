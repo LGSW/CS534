{
 "cells": [
  {
   "cell_type": "code",
   "execution_count": 11,
   "metadata": {},
   "outputs": [
    {
     "name": "stdout",
     "output_type": "stream",
     "text": [
      "suck\n",
      "right\n",
      "left\n",
      "none\n",
      "right\n",
      "none\n",
      "suck\n",
      "left\n"
     ]
    }
   ],
   "source": [
    "def vacuum(locat, cle_dir, vac_locat):\n",
    "    if cle_dir=='dirty':\n",
    "        if locat==vac_locat:\n",
    "            return 'suck'\n",
    "        elif locat=='A' and vac_locat=='B':\n",
    "            return 'left'\n",
    "        elif locat=='B' and vac_locat=='A':\n",
    "            return 'right'\n",
    "    else:\n",
    "        if locat!=vac_locat:\n",
    "            return 'none'\n",
    "        elif locat=='A' and vac_locat=='A':\n",
    "            return 'right'\n",
    "        elif locat=='B' and vac_locat=='B':\n",
    "            return 'left'\n",
    "        \n",
    "print(vacuum('A','dirty','A'))\n",
    "print(vacuum('A','clean','A'))\n",
    "print(vacuum('A','dirty','B'))\n",
    "print(vacuum('A','clean','B'))\n",
    "print(vacuum('B','dirty','A'))\n",
    "print(vacuum('B','clean','A'))\n",
    "print(vacuum('B','dirty','B'))\n",
    "print(vacuum('B','clean','B'))"
   ]
  },
  {
   "cell_type": "code",
   "execution_count": null,
   "metadata": {
    "collapsed": true
   },
   "outputs": [],
   "source": []
  }
 ],
 "metadata": {
  "kernelspec": {
   "display_name": "Python 3",
   "language": "python",
   "name": "python3"
  },
  "language_info": {
   "codemirror_mode": {
    "name": "ipython",
    "version": 3
   },
   "file_extension": ".py",
   "mimetype": "text/x-python",
   "name": "python",
   "nbconvert_exporter": "python",
   "pygments_lexer": "ipython3",
   "version": "3.6.1"
  }
 },
 "nbformat": 4,
 "nbformat_minor": 2
}
