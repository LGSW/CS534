{
 "cells": [
  {
   "cell_type": "code",
   "execution_count": 7,
   "metadata": {
    "collapsed": true
   },
   "outputs": [],
   "source": [
    "from utils import *\n",
    "#from logic import *"
   ]
  },
  {
   "cell_type": "code",
   "execution_count": 65,
   "metadata": {
    "collapsed": true
   },
   "outputs": [],
   "source": [
    "def pl_true(exp, model={}):\n",
    "    \"\"\"Return True if the propositional logic expression is true in the model,\n",
    "    and False if it is false. If the model does not specify the value for\n",
    "    every proposition, this may return None to indicate 'not obvious';\n",
    "    this may happen even when the expression is tautological.\"\"\"\n",
    "    if exp in (True, False):\n",
    "        return exp\n",
    "    op, args = exp.op, exp.args\n",
    "    #print(op)\n",
    "    if is_prop_symbol(op):\n",
    "        return model.get(exp)\n",
    "    elif op == '~':\n",
    "        p = pl_true(args[0], model)\n",
    "        if p is None:\n",
    "            return None\n",
    "        else:\n",
    "            return not p\n",
    "    elif op == '|':\n",
    "        result = False\n",
    "        for arg in args:\n",
    "            p = pl_true(arg, model)\n",
    "            if p is True:\n",
    "                return True\n",
    "            if p is None:\n",
    "                result = None\n",
    "        return result\n",
    "    elif op == '&':\n",
    "        result = True\n",
    "        for arg in args:\n",
    "            p = pl_true(arg, model)\n",
    "            if p is False:\n",
    "                return False\n",
    "            if p is None:\n",
    "                result = None\n",
    "        return result\n",
    "    p, q = args\n",
    "    if op == '==>':\n",
    "        return pl_true(~p | q, model)\n",
    "    elif op == '<==':\n",
    "        return pl_true(p | ~q, model)\n",
    "    pt = pl_true(p, model)\n",
    "    if pt is None:\n",
    "        return None\n",
    "    qt = pl_true(q, model)\n",
    "    if qt is None:\n",
    "        return None\n",
    "    if op == '<=>':\n",
    "        return pt == qt\n",
    "    elif op == '^':  # xor or 'not equivalent'\n",
    "        return pt != qt\n",
    "    else:\n",
    "        raise ValueError(\"illegal operator in logic expression\" + str(exp))\n",
    "        \n",
    "def is_prop_symbol(s):\n",
    "    \"\"\"A proposition logic symbol is an initial-uppercase string.\"\"\"\n",
    "    return is_symbol(s) and s[0].isupper()\n",
    "\n",
    "def is_symbol(s):\n",
    "    \"\"\"A string s is a symbol if it starts with an alphabetic char.\"\"\"\n",
    "    return isinstance(s, str) and s[:1].isalpha()\n",
    "\n",
    "\n",
    "def tt_entails(kb, alpha):\n",
    "    \"\"\"Does kb entail the sentence alpha? Use truth tables. For propositional\n",
    "    kb's and sentences. [Figure 7.10]. Note that the 'kb' should be an\n",
    "    Expr which is a conjunction of clauses.\n",
    "    >>> tt_entails(expr('P & Q'), expr('Q'))\n",
    "    True\n",
    "    \"\"\"\n",
    "    assert not variables(alpha)\n",
    "    symbols = list(prop_symbols(kb & alpha))\n",
    "    return tt_check_all(kb, alpha, symbols, {})\n",
    "\n",
    "\n",
    "def tt_check_all(kb, alpha, symbols, model):\n",
    "    \"\"\"Auxiliary routine to implement tt_entails.\"\"\"\n",
    "    if not symbols:\n",
    "        if pl_true(kb, model):\n",
    "            result = pl_true(alpha, model)\n",
    "            assert result in (True, False)\n",
    "            return result\n",
    "        else:\n",
    "            return True\n",
    "    else:\n",
    "        P, rest = symbols[0], symbols[1:]\n",
    "        return (tt_check_all(kb, alpha, rest, extend(model, P, True)) and\n",
    "                tt_check_all(kb, alpha, rest, extend(model, P, False)))\n"
   ]
  },
  {
   "cell_type": "code",
   "execution_count": 66,
   "metadata": {
    "collapsed": true
   },
   "outputs": [],
   "source": [
    "(A,B,C,D,P,Q)= symbols('A,B,C,D,P,Q')"
   ]
  },
  {
   "cell_type": "code",
   "execution_count": 67,
   "metadata": {},
   "outputs": [
    {
     "name": "stdout",
     "output_type": "stream",
     "text": [
      "False\n"
     ]
    }
   ],
   "source": [
    "### \n",
    "sentence = expr('A & B')\n",
    "print(pl_true(sentence, {A:True,B:False}))"
   ]
  },
  {
   "cell_type": "code",
   "execution_count": 68,
   "metadata": {},
   "outputs": [
    {
     "name": "stdout",
     "output_type": "stream",
     "text": [
      "None\n",
      "None\n",
      "None\n"
     ]
    }
   ],
   "source": [
    "### Q4\n",
    "sentence1 = expr('A| ~A')\n",
    "sentence2 = expr('A & ~A')\n",
    "sentence3 = expr('(A & A ==> B) ==> B ')\n",
    "print(pl_true(sentence1))\n",
    "print(pl_true(sentence2))\n",
    "print(pl_true(sentence3))"
   ]
  },
  {
   "cell_type": "code",
   "execution_count": null,
   "metadata": {},
   "outputs": [],
   "source": []
  },
  {
   "cell_type": "code",
   "execution_count": null,
   "metadata": {
    "collapsed": true
   },
   "outputs": [],
   "source": []
  },
  {
   "cell_type": "code",
   "execution_count": null,
   "metadata": {
    "collapsed": true
   },
   "outputs": [],
   "source": []
  }
 ],
 "metadata": {
  "kernelspec": {
   "display_name": "Python 3",
   "language": "python",
   "name": "python3"
  },
  "language_info": {
   "codemirror_mode": {
    "name": "ipython",
    "version": 3
   },
   "file_extension": ".py",
   "mimetype": "text/x-python",
   "name": "python",
   "nbconvert_exporter": "python",
   "pygments_lexer": "ipython3",
   "version": "3.6.1"
  }
 },
 "nbformat": 4,
 "nbformat_minor": 2
}
