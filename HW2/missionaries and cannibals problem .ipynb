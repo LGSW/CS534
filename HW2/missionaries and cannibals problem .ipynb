{
 "cells": [
  {
   "cell_type": "code",
   "execution_count": 1,
   "metadata": {
    "collapsed": true
   },
   "outputs": [],
   "source": [
    "# def state(m, c, boat)\n",
    "# starting state=(3,3,1)\n",
    "# ending state=(0,0,0) "
   ]
  },
  {
   "cell_type": "code",
   "execution_count": 13,
   "metadata": {},
   "outputs": [
    {
     "name": "stdout",
     "output_type": "stream",
     "text": [
      "12\n",
      "[[3, 3, 1], [2, 2, 0], [3, 2, 1], [3, 0, 0], [3, 1, 1], [1, 1, 0], [2, 2, 1], [0, 2, 0], [0, 3, 1], [0, 1, 0], [1, 1, 1], [0, 0, 0]]\n",
      "12\n",
      "[[3, 3, 1], [2, 2, 0], [3, 2, 1], [3, 0, 0], [3, 1, 1], [1, 1, 0], [2, 2, 1], [0, 2, 0], [0, 3, 1], [0, 1, 0], [0, 2, 1], [0, 0, 0]]\n",
      "12\n",
      "[[3, 3, 1], [3, 1, 0], [3, 2, 1], [3, 0, 0], [3, 1, 1], [1, 1, 0], [2, 2, 1], [0, 2, 0], [0, 3, 1], [0, 1, 0], [1, 1, 1], [0, 0, 0]]\n",
      "12\n",
      "[[3, 3, 1], [3, 1, 0], [3, 2, 1], [3, 0, 0], [3, 1, 1], [1, 1, 0], [2, 2, 1], [0, 2, 0], [0, 3, 1], [0, 1, 0], [0, 2, 1], [0, 0, 0]]\n",
      "4\n"
     ]
    }
   ],
   "source": [
    "visit_list=[]\n",
    "past_list=[]\n",
    "step=0\n",
    "\n",
    "def isValid(x, y, b):\n",
    "    if(x<0 or x>3 or y<0 or y>3):\n",
    "        return False\n",
    "    if(x==3 or x==0 or x==y):\n",
    "        return True\n",
    "    else:\n",
    "        return False\n",
    "    \n",
    "def change(x, y, b, depth):\n",
    "    c_list=[]\n",
    "    bb=1-b\n",
    "    for i in range(0,3):\n",
    "        for j in range(0,3):\n",
    "            if(i+j==0 or i+j>2):\n",
    "                continue\n",
    "            if b==0:\n",
    "                xx=x+i\n",
    "                yy=y+j\n",
    "            else:\n",
    "                xx=x-i\n",
    "                yy=y-j\n",
    "            if(isValid(xx,yy,bb) and [xx,yy,bb] not in past_list):\n",
    "                c_list.append([xx,yy,bb,depth+1])\n",
    "    return c_list\n",
    "    \n",
    "def findsolution(x, y, b, f1, f2, f3):\n",
    "    amount=0\n",
    "    depth=0\n",
    "    visit_list.append([x,y,b,depth])\n",
    "    while(len(visit_list)!=0):\n",
    "        #print(visit_list)\n",
    "        t=visit_list.pop()\n",
    "        #print(t)\n",
    "        xx =t[0]\n",
    "        yy =t[1]\n",
    "        bb =t[2]\n",
    "        depth =t[3]\n",
    "        for i in range(0,len(past_list)):\n",
    "            if i>=depth:\n",
    "                past_list.pop()\n",
    "        past_list.append([xx,yy,bb])\n",
    "        #print(past_list)\n",
    "        if(xx==f1 and yy==f2 and bb==f3):\n",
    "            amount+=1\n",
    "            print(len(past_list))\n",
    "            print(past_list)\n",
    "            continue\n",
    "        newstate_list=change(xx,yy,bb,depth)\n",
    "        for i in range(len(newstate_list)):\n",
    "            visit_list.append(newstate_list[i])\n",
    "    return amount\n",
    "\n",
    "print(findsolution(3,3,1,0,0,0))"
   ]
  },
  {
   "cell_type": "code",
   "execution_count": 7,
   "metadata": {},
   "outputs": [
    {
     "name": "stdout",
     "output_type": "stream",
     "text": [
      "[[3, 3, 1], [2, 2, 0], [3, 2, 1], [3, 0, 0], [3, 1, 1], [1, 1, 0], [2, 2, 1], [0, 2, 0], [0, 3, 1], [0, 1, 0], [1, 1, 1], [0, 0, 0]]\n"
     ]
    }
   ],
   "source": [
    "class missionaries_and_cannibals:\n",
    "    def __init__(self, state, goal, parent=None):\n",
    "        self.state = state\n",
    "        self.goal = goal\n",
    "        self.parent = parent\n",
    "        \n",
    "    def isvalid(self):\n",
    "        x,y,b = self.state[0:3]\n",
    "        if(x<0 or x>3 or y<0 or y>3):\n",
    "            return False\n",
    "        if(x==3 or x==0 or x==y):\n",
    "            return True\n",
    "        else:\n",
    "            return False\n",
    "    \n",
    "    def isreach(self):\n",
    "        if self.state==self.goal:\n",
    "            return True\n",
    "        else:\n",
    "            return False\n",
    "        \n",
    "\n",
    "class agent:\n",
    "    def __init__(self, state, goal):\n",
    "        self.init = missionaries_and_cannibals(state, goal)\n",
    "        self.p_list=[]\n",
    "        self.stack=[]\n",
    "        \n",
    "    def change(self, mas):\n",
    "        x_list=[]\n",
    "        x, y, b= mas.state[0:3]\n",
    "        bb= 1-b\n",
    "        for i in range(0,3):\n",
    "            for j in range(0,3):\n",
    "                if(i+j==0 or i+j>2):\n",
    "                    continue\n",
    "                if b==0:\n",
    "                    xx=x+i\n",
    "                    yy=y+j\n",
    "                else:\n",
    "                    xx=x-i\n",
    "                    yy=y-j\n",
    "                new_mas= missionaries_and_cannibals([xx,yy,bb],mas.goal, mas)\n",
    "                flag= True\n",
    "                \n",
    "                w= new_mas\n",
    "                while(w.parent!=None):\n",
    "                    w=w.parent\n",
    "                    if(new_mas.state==w.state):\n",
    "                        flag= False\n",
    "                        break\n",
    "                if new_mas.state==self.init.state:\n",
    "                    flag=False\n",
    "                \n",
    "                if new_mas.isvalid() and flag :\n",
    "                    x_list.append(new_mas)\n",
    "        \n",
    "        return x_list\n",
    "    \n",
    "    def dfs(self):\n",
    "        while(len(self.stack)!=0):\n",
    "            x = self.stack.pop()\n",
    "            if(x.isreach()):\n",
    "                result=[]\n",
    "                while(x.parent!=None):\n",
    "                    result.append(x.state)\n",
    "                    x=x.parent\n",
    "                result.append(self.init.state)\n",
    "                print(result[::-1])\n",
    "                return\n",
    "            x_list = self.change(x)\n",
    "            for i in range(len(x_list)):\n",
    "                self.stack.append(x_list[i])\n",
    "                #print(x_list[i].state)\n",
    "    \n",
    "    def search(self):\n",
    "        self.stack.append(self.init)\n",
    "        self.dfs()\n",
    "    \n",
    "s1=agent([3,3,1],[0,0,0])\n",
    "\n",
    "#mm= missionaries_and_cannibals([2,2,0],[0,0,0])\n",
    "\n",
    "#w=s1.change(s1.init)\n",
    "#for i in range(len(w)):\n",
    "#    print(w[i].state)\n",
    "\n",
    "\n",
    "s1.search()"
   ]
  },
  {
   "cell_type": "code",
   "execution_count": null,
   "metadata": {},
   "outputs": [],
   "source": []
  },
  {
   "cell_type": "code",
   "execution_count": null,
   "metadata": {
    "collapsed": true
   },
   "outputs": [],
   "source": []
  },
  {
   "cell_type": "code",
   "execution_count": null,
   "metadata": {
    "collapsed": true
   },
   "outputs": [],
   "source": []
  }
 ],
 "metadata": {
  "kernelspec": {
   "display_name": "Python 3",
   "language": "python",
   "name": "python3"
  },
  "language_info": {
   "codemirror_mode": {
    "name": "ipython",
    "version": 3
   },
   "file_extension": ".py",
   "mimetype": "text/x-python",
   "name": "python",
   "nbconvert_exporter": "python",
   "pygments_lexer": "ipython3",
   "version": "3.6.2"
  }
 },
 "nbformat": 4,
 "nbformat_minor": 2
}
